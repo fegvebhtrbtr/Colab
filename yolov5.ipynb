{
  "cells": [
    {
      "cell_type": "markdown",
      "metadata": {
        "id": "view-in-github",
        "colab_type": "text"
      },
      "source": [
        "<a href=\"https://colab.research.google.com/github/fegvebhtrbtr/Colab/blob/main/yolov5.ipynb\" target=\"_parent\"><img src=\"https://colab.research.google.com/assets/colab-badge.svg\" alt=\"Open In Colab\"/></a>"
      ]
    },
    {
      "cell_type": "code",
      "execution_count": null,
      "metadata": {
        "id": "suT2B5tvZg5w"
      },
      "outputs": [],
      "source": [
        "# 连接Google网盘\n",
        "#from google.colab import drive\n",
        "#drive.mount('/content/drive')"
      ]
    },
    {
      "cell_type": "code",
      "execution_count": null,
      "metadata": {
        "id": "PXS2Js_zfaSy"
      },
      "outputs": [],
      "source": [
        "# 安装yolv5\n",
        "!git clone https://github.com/ultralytics/yolov5\n",
        "%cd yolov5\n",
        "!pip install -r requirements.txt"
      ]
    },
    {
      "cell_type": "code",
      "source": [
        "import os\n",
        "os.environ['KMP_DUPLICATE_LIB_OK'] = 'True'  # 加上这句话不报错\n",
        "import torch\n",
        "from IPython.display import Image, clear_output  # to display images\n",
        "clear_output()\n",
        "print('Setup complete. Using torch %s %s' % (torch.__version__, torch.cuda.get_device_properties(0) if torch.cuda.is_available() else 'CPU'))"
      ],
      "metadata": {
        "id": "P50PKRNletm2"
      },
      "execution_count": null,
      "outputs": []
    },
    {
      "cell_type": "code",
      "execution_count": null,
      "metadata": {
        "id": "1eno31XOp_ex"
      },
      "outputs": [],
      "source": [
        "# 训练模型\n",
        "!python train.py --img 640 --batch 50 --epochs 100 --data /content/drive/MyDrive/YOLOv5/data.yaml --weights /content/drive/MyDrive/YOLOv5/yolov5s.pt --nosave --cache"
      ]
    },
    {
      "cell_type": "code",
      "source": [
        "# 模型预测\n",
        "!python detect.py --weights runs/train/exp/weights/last.pt --img 640 --conf 0.25 --source /content/drive/MyDrive/YOLOv5/test.jpg"
      ],
      "metadata": {
        "id": "qzXPGNawflzo"
      },
      "execution_count": null,
      "outputs": []
    }
  ],
  "metadata": {
    "accelerator": "GPU",
    "colab": {
      "collapsed_sections": [],
      "provenance": [],
      "mount_file_id": "1a6rRmhCtr98dmcoROI7kvWxEGcUk-laz",
      "authorship_tag": "ABX9TyP7Ih8fNzC/ss/hKdb3Sur3",
      "include_colab_link": true
    },
    "kernelspec": {
      "display_name": "Python 3",
      "name": "python3"
    },
    "language_info": {
      "name": "python"
    }
  },
  "nbformat": 4,
  "nbformat_minor": 0
}