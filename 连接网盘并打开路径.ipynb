{
  "nbformat": 4,
  "nbformat_minor": 0,
  "metadata": {
    "colab": {
      "provenance": [],
      "collapsed_sections": [],
      "mount_file_id": "1owuObQ3OiD8k1Yx5cAohTcbkyC47quVs",
      "authorship_tag": "ABX9TyMjO5aMEh4Q4MtuGzN3cfNJ",
      "include_colab_link": true
    },
    "kernelspec": {
      "name": "python3",
      "display_name": "Python 3"
    },
    "language_info": {
      "name": "python"
    }
  },
  "cells": [
    {
      "cell_type": "markdown",
      "metadata": {
        "id": "view-in-github",
        "colab_type": "text"
      },
      "source": [
        "<a href=\"https://colab.research.google.com/github/fegvebhtrbtr/Colab/blob/main/%E8%BF%9E%E6%8E%A5%E7%BD%91%E7%9B%98%E5%B9%B6%E6%89%93%E5%BC%80%E8%B7%AF%E5%BE%84.ipynb\" target=\"_parent\"><img src=\"https://colab.research.google.com/assets/colab-badge.svg\" alt=\"Open In Colab\"/></a>"
      ]
    },
    {
      "cell_type": "code",
      "execution_count": null,
      "metadata": {
        "id": "s8EX3O-Sm-13",
        "colab": {
          "base_uri": "https://localhost:8080/"
        },
        "outputId": "329e9f90-da32-40fc-b09d-a20a5462a8bb"
      },
      "outputs": [
        {
          "output_type": "stream",
          "name": "stdout",
          "text": [
            "Drive already mounted at /content/drive/; to attempt to forcibly remount, call drive.mount(\"/content/drive/\", force_remount=True).\n"
          ]
        }
      ],
      "source": [
        "from google.colab import drive \n",
        "drive.mount('/content/drive/') "
      ]
    },
    {
      "cell_type": "code",
      "source": [
        "# 输入自己想要打开的路径 \n",
        "%cd /content/drive/MyDrive/mirror/\n",
        "!ls "
      ],
      "metadata": {
        "colab": {
          "base_uri": "https://localhost:8080/"
        },
        "id": "ahdc8cjoq3NL",
        "outputId": "b42b34c4-1cf2-4dab-c98b-ce056f0c1861"
      },
      "execution_count": null,
      "outputs": [
        {
          "output_type": "stream",
          "name": "stdout",
          "text": [
            "/content/drive/MyDrive/mirror\n"
          ]
        }
      ]
    },
    {
      "cell_type": "code",
      "source": [
        "# 克隆github项目\n",
        "!git clone --recursive https://github.com/fegvebhtrbtr/Colab.git"
      ],
      "metadata": {
        "id": "0EXWhRVTxyUK",
        "colab": {
          "base_uri": "https://localhost:8080/"
        },
        "outputId": "6ca09d06-9444-470a-efd4-639617521495"
      },
      "execution_count": 1,
      "outputs": [
        {
          "output_type": "stream",
          "name": "stdout",
          "text": [
            "Cloning into 'Colab'...\n",
            "remote: Enumerating objects: 12, done.\u001b[K\n",
            "remote: Counting objects: 100% (12/12), done.\u001b[K\n",
            "remote: Compressing objects: 100% (10/10), done.\u001b[K\n",
            "Unpacking objects: 100% (12/12), done.\n",
            "remote: Total 12 (delta 4), reused 0 (delta 0), pack-reused 0\u001b[K\n"
          ]
        }
      ]
    },
    {
      "cell_type": "code",
      "source": [
        "!ls"
      ],
      "metadata": {
        "colab": {
          "base_uri": "https://localhost:8080/"
        },
        "id": "21BUOOEZx848",
        "outputId": "994017fa-39a5-41ee-cce8-317765c076eb"
      },
      "execution_count": 3,
      "outputs": [
        {
          "output_type": "stream",
          "name": "stdout",
          "text": [
            "Colab  drive  sample_data\n"
          ]
        }
      ]
    }
  ]
}