{
  "nbformat": 4,
  "nbformat_minor": 0,
  "metadata": {
    "colab": {
      "provenance": [],
      "mount_file_id": "1owuObQ3OiD8k1Yx5cAohTcbkyC47quVs",
      "authorship_tag": "ABX9TyMMjCCQDvk2sFxbK+jr7TrZ",
      "include_colab_link": true
    },
    "kernelspec": {
      "name": "python3",
      "display_name": "Python 3"
    },
    "language_info": {
      "name": "python"
    }
  },
  "cells": [
    {
      "cell_type": "markdown",
      "metadata": {
        "id": "view-in-github",
        "colab_type": "text"
      },
      "source": [
        "<a href=\"https://colab.research.google.com/github/fegvebhtrbtr/Colab/blob/main/%E8%BF%9E%E6%8E%A5%E7%BD%91%E7%9B%98%E5%B9%B6%E6%89%93%E5%BC%80%E8%B7%AF%E5%BE%84.ipynb\" target=\"_parent\"><img src=\"https://colab.research.google.com/assets/colab-badge.svg\" alt=\"Open In Colab\"/></a>"
      ]
    },
    {
      "cell_type": "code",
      "execution_count": 24,
      "metadata": {
        "id": "s8EX3O-Sm-13",
        "colab": {
          "base_uri": "https://localhost:8080/"
        },
        "outputId": "329e9f90-da32-40fc-b09d-a20a5462a8bb"
      },
      "outputs": [
        {
          "output_type": "stream",
          "name": "stdout",
          "text": [
            "Drive already mounted at /content/drive/; to attempt to forcibly remount, call drive.mount(\"/content/drive/\", force_remount=True).\n"
          ]
        }
      ],
      "source": [
        "from google.colab import drive \n",
        "drive.mount('/content/drive/') "
      ]
    },
    {
      "cell_type": "code",
      "source": [
        "# 输入自己想要打开的路径 \n",
        "%cd /content/drive/MyDrive/mirror/\n",
        "!ls "
      ],
      "metadata": {
        "colab": {
          "base_uri": "https://localhost:8080/"
        },
        "id": "ahdc8cjoq3NL",
        "outputId": "b42b34c4-1cf2-4dab-c98b-ce056f0c1861"
      },
      "execution_count": 25,
      "outputs": [
        {
          "output_type": "stream",
          "name": "stdout",
          "text": [
            "/content/drive/MyDrive/mirror\n"
          ]
        }
      ]
    }
  ]
}